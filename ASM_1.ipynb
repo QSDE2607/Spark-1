{
 "cells": [
  {
   "cell_type": "code",
   "execution_count": 1,
   "metadata": {},
   "outputs": [],
   "source": [
    "import os\n",
    "from pyspark.sql.types import *\n",
    "from pyspark.sql import SparkSession,Window\n",
    "from pyspark.sql import functions as f\n",
    "from pyspark.sql.functions import *\n",
    "import re\n",
    "\n",
    "import findspark\n",
    "findspark.init()"
   ]
  },
  {
   "cell_type": "code",
   "execution_count": 2,
   "metadata": {},
   "outputs": [],
   "source": [
    "spark = SparkSession \\\n",
    "    .builder \\\n",
    "    .master('local') \\\n",
    "    .appName('MyApp') \\\n",
    "    .config('spark.jars.packages', 'org.mongodb.spark:mongo-spark-connector_2.12:3.0.1') \\\n",
    "    .config('spark.mongodb.input.uri', 'mongodb://localhost:27017/Spark_ASM1') \\\n",
    "    .config('spark.mongodb.output.uri', 'mongodb://localhost:27017/Spark_ASM1') \\\n",
    "    .getOrCreate()\n",
    "    "
   ]
  },
  {
   "cell_type": "code",
   "execution_count": 3,
   "metadata": {},
   "outputs": [
    {
     "data": {
      "text/plain": [
       "'3.4.1'"
      ]
     },
     "execution_count": 3,
     "metadata": {},
     "output_type": "execute_result"
    }
   ],
   "source": [
    "spark.version"
   ]
  },
  {
   "cell_type": "markdown",
   "metadata": {},
   "source": [
    "# Tạo cấu trúc cho bảng Questions"
   ]
  },
  {
   "cell_type": "code",
   "execution_count": 4,
   "metadata": {},
   "outputs": [],
   "source": [
    "schema = StructType([\n",
    "    StructField(\"Id\", IntegerType()),\n",
    "    StructField(\"OwnerUserId\", StringType()),\n",
    "    StructField(\"CreationDate\", StringType()),\n",
    "    StructField(\"ClosedDate\", StringType()),\n",
    "    StructField(\"Score\", IntegerType()),\n",
    "    StructField(\"Title\", StringType()),\n",
    "    StructField(\"Body\", StringType())\n",
    "])"
   ]
  },
  {
   "cell_type": "markdown",
   "metadata": {},
   "source": [
    "# Tạo cấu trúc cho bảng Answers"
   ]
  },
  {
   "cell_type": "code",
   "execution_count": 5,
   "metadata": {},
   "outputs": [],
   "source": [
    "schema_1 = StructType([\n",
    "    StructField(\"Id\", IntegerType()),\n",
    "    StructField(\"OwnerUserId\", StringType()),\n",
    "    StructField(\"CreationDate\", StringType()),\n",
    "    StructField(\"ParentId\", IntegerType()),\n",
    "    StructField(\"Score\", IntegerType()),\n",
    "    StructField(\"Body\", StringType())\n",
    "])"
   ]
  },
  {
   "cell_type": "markdown",
   "metadata": {},
   "source": [
    "# Đọc bảng Questions"
   ]
  },
  {
   "cell_type": "code",
   "execution_count": 6,
   "metadata": {},
   "outputs": [
    {
     "name": "stdout",
     "output_type": "stream",
     "text": [
      "+----+-----------+--------------------+--------------------+-----+--------------------+--------------------+\n",
      "|  Id|OwnerUserId|        CreationDate|          ClosedDate|Score|               Title|                Body|\n",
      "+----+-----------+--------------------+--------------------+-----+--------------------+--------------------+\n",
      "|  90|         58|2008-08-01T14:41:24Z|2012-12-26T03:45:49Z|  144|Good branching an...|<p>Are there any ...|\n",
      "| 180|    2089740|2008-08-01T18:42:19Z|                  NA|   53|Function for crea...|<p>This is someth...|\n",
      "| 120|         83|2008-08-01T15:50:08Z|                  NA|   21|   ASP.NET Site Maps|<p>Has anyone got...|\n",
      "|  80|         26|2008-08-01T13:57:07Z|                  NA|   26|SQLStatement.exec...|<p>I've written a...|\n",
      "| 470|         71|2008-08-02T15:11:47Z|2016-03-26T05:23:29Z|   13|Homegrown consump...|<p>I've been writ...|\n",
      "| 260|         91|2008-08-01T23:22:08Z|                  NA|   49|Adding scripting ...|<p>I have a littl...|\n",
      "| 330|         63|2008-08-02T02:51:36Z|                  NA|   29|Should I use nest...|<p>I am working o...|\n",
      "| 810|        233|2008-08-03T20:35:01Z|                  NA|    9|Visual Studio Set...|<p>I'm trying to ...|\n",
      "| 580|         91|2008-08-02T23:30:59Z|                  NA|   21|Deploying SQL Ser...|<p>I wonder how y...|\n",
      "|1010|         67|2008-08-04T03:59:42Z|                  NA|   14|How to get the va...|<p>I need to grab...|\n",
      "| 650|        143|2008-08-03T11:12:52Z|                  NA|   79|Automatically upd...|<p>I would like t...|\n",
      "| 930|        245|2008-08-04T00:47:25Z|                  NA|   28|How do I connect ...|<p>What's the sim...|\n",
      "|1160|        120|2008-08-04T11:37:24Z|                  NA|   36|Use SVN Revision ...|<p>I am using CCN...|\n",
      "|1070|        236|2008-08-04T07:34:44Z|                  NA|   17|Process size on UNIX|<p>What is the co...|\n",
      "|1180|        281|2008-08-04T12:22:07Z|                  NA|   17|How to make subdo...|<p>I am looking t...|\n",
      "|1300|         91|2008-08-04T14:55:04Z|                  NA|   23|Is nAnt still sup...|<p>I am using MSB...|\n",
      "|1390|         60|2008-08-04T16:33:36Z|                  NA|   18|Is Windows Server...|<p>I'm setting up...|\n",
      "|1790|        194|2008-08-05T01:27:34Z|                  NA|   13|Federated (Synced...|<p>Is it possible...|\n",
      "|1600|        230|2008-08-04T21:27:53Z|                  NA|   18|What is the best ...|<p>I always creat...|\n",
      "|1040|        254|2008-08-04T05:45:22Z|                  NA|   42|How do I delete a...|<p>I'm looking fo...|\n",
      "+----+-----------+--------------------+--------------------+-----+--------------------+--------------------+\n",
      "only showing top 20 rows\n",
      "\n"
     ]
    }
   ],
   "source": [
    "df = spark.read \\\n",
    "    .format('com.mongodb.spark.sql.DefaultSource') \\\n",
    "    .option(\"spark.mongodb.input.collection\",\"Questions\") \\\n",
    "    .schema(schema) \\\n",
    "    .load()\n",
    "df.show()"
   ]
  },
  {
   "cell_type": "markdown",
   "metadata": {},
   "source": [
    "# Đọc bảng Answers"
   ]
  },
  {
   "cell_type": "code",
   "execution_count": 7,
   "metadata": {},
   "outputs": [
    {
     "name": "stdout",
     "output_type": "stream",
     "text": [
      "+---+-----------+--------------------+--------+-----+--------------------+\n",
      "| Id|OwnerUserId|        CreationDate|ParentId|Score|                Body|\n",
      "+---+-----------+--------------------+--------+-----+--------------------+\n",
      "| 92|         61|2008-08-01T14:45:37Z|      90|   13|<p><a href=\"http:...|\n",
      "|124|         26|2008-08-01T16:09:47Z|      80|   12|<p>I wound up usi...|\n",
      "|199|         50|2008-08-01T19:36:46Z|     180|    1|<p>I've read some...|\n",
      "|269|         91|2008-08-01T23:49:57Z|     260|    4|<p>Yes, I thought...|\n",
      "|307|         49|2008-08-02T01:49:46Z|     260|   28|<p><a href=\"http:...|\n",
      "|332|         59|2008-08-02T03:00:24Z|     330|   19|<p>I would be a b...|\n",
      "|344|        100|2008-08-02T04:18:15Z|     260|    6|<p>You might be a...|\n",
      "|473|         49|2008-08-02T15:33:13Z|     470|    8|<p>No, what you'r...|\n",
      "|529|         86|2008-08-02T18:16:07Z|     180|    3|<p>Isn't it also ...|\n",
      "|359|        119|2008-08-02T06:16:23Z|     260|    5|<P>You could use ...|\n",
      "|585|        149|2008-08-02T23:40:04Z|     580|   13|<p>For my project...|\n",
      "|539|        157|2008-08-02T19:03:52Z|     180|   21|<p>My first thoug...|\n",
      "|590|        116|2008-08-03T00:22:03Z|     580|    2|<p>If you have a ...|\n",
      "|586|         34|2008-08-02T23:51:09Z|     580|   17|<p>I've taken to ...|\n",
      "|591|        111|2008-08-03T00:37:03Z|     580|    3|<p>I work the sam...|\n",
      "|597|         76|2008-08-03T01:38:02Z|     580|    1|<p>I agree that s...|\n",
      "|655|         91|2008-08-03T11:41:38Z|     650|   69|<p>With the \"Buil...|\n",
      "|787|        175|2008-08-03T18:46:33Z|     650|    4|<p>What source co...|\n",
      "|818|        233|2008-08-03T20:45:27Z|     810|    0|<p>I'm partway to...|\n",
      "|820|         91|2008-08-03T20:48:47Z|     810|    3|<p>First: Yes, th...|\n",
      "+---+-----------+--------------------+--------+-----+--------------------+\n",
      "only showing top 20 rows\n",
      "\n"
     ]
    }
   ],
   "source": [
    "df_aws = spark.read \\\n",
    "    .format('com.mongodb.spark.sql.DefaultSource') \\\n",
    "    .option(\"spark.mongodb.input.collection\",\"Answers\") \\\n",
    "    .schema(schema_1) \\\n",
    "    .load()\n",
    "df_aws.show()"
   ]
  },
  {
   "cell_type": "markdown",
   "metadata": {},
   "source": [
    "# Đổi lại DataType và loại bỏ các giá trị trống"
   ]
  },
  {
   "cell_type": "code",
   "execution_count": 8,
   "metadata": {},
   "outputs": [],
   "source": [
    "df_fix_aws = df_aws \\\n",
    "    .withColumn(\"OwnerUserId\", when(col(\"OwnerUserId\") == \"NA\", None).otherwise(col(\"OwnerUserId\")).cast(IntegerType())) \\\n",
    "    .withColumn('CreationDate',when(col('CreationDate') == \"NA\", None )\n",
    "                            .otherwise(df_aws['CreationDate'].cast(TimestampType()))) \n",
    "# df_fix_aws.printSchema()\n",
    "# df_fix_aws.show()"
   ]
  },
  {
   "cell_type": "markdown",
   "metadata": {},
   "source": [
    "# Chọn ra Cột ID và ParentID của bảng Answers lưu vào bucket để lát nữa join"
   ]
  },
  {
   "cell_type": "code",
   "execution_count": 9,
   "metadata": {},
   "outputs": [],
   "source": [
    "# df_fix_aws1 = df_fix_aws.select('id','ParentId')\n",
    "# # df_fix_aws1.show()\n",
    "# df_fix_aws1.write.bucketBy(5, \"Id\").saveAsTable(\n",
    "#     \"bucketed\", format=\"csv\", mode=\"overwrite\")"
   ]
  },
  {
   "cell_type": "markdown",
   "metadata": {},
   "source": [
    "# Chỉnh lại dataType và loại bỏ các giá trị trống của bảng Questions"
   ]
  },
  {
   "cell_type": "code",
   "execution_count": 10,
   "metadata": {},
   "outputs": [
    {
     "name": "stdout",
     "output_type": "stream",
     "text": [
      "root\n",
      " |-- Id: integer (nullable = true)\n",
      " |-- OwnerUserId: integer (nullable = true)\n",
      " |-- CreationDate: timestamp (nullable = true)\n",
      " |-- ClosedDate: timestamp (nullable = true)\n",
      " |-- Score: integer (nullable = true)\n",
      " |-- Title: string (nullable = true)\n",
      " |-- Body: string (nullable = true)\n",
      "\n",
      "+----+-----------+-------------------+-------------------+-----+--------------------+--------------------+\n",
      "|  Id|OwnerUserId|       CreationDate|         ClosedDate|Score|               Title|                Body|\n",
      "+----+-----------+-------------------+-------------------+-----+--------------------+--------------------+\n",
      "|  90|         58|2008-08-01 21:41:24|2012-12-26 10:45:49|  144|Good branching an...|<p>Are there any ...|\n",
      "| 180|    2089740|2008-08-02 01:42:19|               null|   53|Function for crea...|<p>This is someth...|\n",
      "| 120|         83|2008-08-01 22:50:08|               null|   21|   ASP.NET Site Maps|<p>Has anyone got...|\n",
      "|  80|         26|2008-08-01 20:57:07|               null|   26|SQLStatement.exec...|<p>I've written a...|\n",
      "| 470|         71|2008-08-02 22:11:47|2016-03-26 12:23:29|   13|Homegrown consump...|<p>I've been writ...|\n",
      "| 260|         91|2008-08-02 06:22:08|               null|   49|Adding scripting ...|<p>I have a littl...|\n",
      "| 330|         63|2008-08-02 09:51:36|               null|   29|Should I use nest...|<p>I am working o...|\n",
      "| 810|        233|2008-08-04 03:35:01|               null|    9|Visual Studio Set...|<p>I'm trying to ...|\n",
      "| 580|         91|2008-08-03 06:30:59|               null|   21|Deploying SQL Ser...|<p>I wonder how y...|\n",
      "|1010|         67|2008-08-04 10:59:42|               null|   14|How to get the va...|<p>I need to grab...|\n",
      "| 650|        143|2008-08-03 18:12:52|               null|   79|Automatically upd...|<p>I would like t...|\n",
      "| 930|        245|2008-08-04 07:47:25|               null|   28|How do I connect ...|<p>What's the sim...|\n",
      "|1160|        120|2008-08-04 18:37:24|               null|   36|Use SVN Revision ...|<p>I am using CCN...|\n",
      "|1070|        236|2008-08-04 14:34:44|               null|   17|Process size on UNIX|<p>What is the co...|\n",
      "|1180|        281|2008-08-04 19:22:07|               null|   17|How to make subdo...|<p>I am looking t...|\n",
      "|1300|         91|2008-08-04 21:55:04|               null|   23|Is nAnt still sup...|<p>I am using MSB...|\n",
      "|1390|         60|2008-08-04 23:33:36|               null|   18|Is Windows Server...|<p>I'm setting up...|\n",
      "|1790|        194|2008-08-05 08:27:34|               null|   13|Federated (Synced...|<p>Is it possible...|\n",
      "|1600|        230|2008-08-05 04:27:53|               null|   18|What is the best ...|<p>I always creat...|\n",
      "|1040|        254|2008-08-04 12:45:22|               null|   42|How do I delete a...|<p>I'm looking fo...|\n",
      "+----+-----------+-------------------+-------------------+-----+--------------------+--------------------+\n",
      "only showing top 20 rows\n",
      "\n"
     ]
    }
   ],
   "source": [
    "df_fix = df \\\n",
    "    .withColumn(\"OwnerUserId\", when(col(\"OwnerUserId\") == \"NA\", None).otherwise(col(\"OwnerUserId\")).cast(IntegerType())) \\\n",
    "    .withColumn('CreationDate',when(col('CreationDate') == \"NA\", None )\n",
    "                            .otherwise(df['CreationDate'].cast(TimestampType()))) \\\n",
    "    .withColumn('ClosedDate',when(col('ClosedDate') == \"NA\", None )\n",
    "                            .otherwise(df['ClosedDate'].cast(TimestampType())))\n",
    "df_fix.printSchema()\n",
    "df_fix.show()\n"
   ]
  },
  {
   "cell_type": "markdown",
   "metadata": {},
   "source": [
    "# Chọn ra 2 cột ID và OwnerUserId của bảng Questions lưu vào bucketed1"
   ]
  },
  {
   "cell_type": "code",
   "execution_count": 11,
   "metadata": {},
   "outputs": [],
   "source": [
    "df_fix1 = df_fix.select('Id','OwnerUserId')\n",
    "df_fix1.write.bucketBy(5, \"Id\").saveAsTable(\n",
    "    \"bucketed1\", format=\"csv\", mode=\"overwrite\")"
   ]
  },
  {
   "cell_type": "markdown",
   "metadata": {},
   "source": [
    "# Sử dụng regex để tách ra các ngôn ngữ lt và website được nhắc đến"
   ]
  },
  {
   "cell_type": "code",
   "execution_count": 18,
   "metadata": {},
   "outputs": [],
   "source": [
    "languages_regex = r'\\b(Python|Java|C\\+\\+|JavaScript|C#|Ruby|Swift|Go|Kotlin|TypeScript|CSS|HTML|SQL|PHP)\\b'\n",
    "regex_web = r\"(?<=://)([^/]+)\"\n",
    "\n",
    "def extract_languages(text):\n",
    "    matches = re.findall(languages_regex, text)\n",
    "    return matches \n",
    "extract_languages_udf = udf(extract_languages,ArrayType(StringType()))\n",
    "\n",
    "def extract_websites(text):\n",
    "    matches = re.findall(regex_web, text)\n",
    "    return matches \n",
    "extract_website_udf = udf(extract_websites,ArrayType(StringType()))\n"
   ]
  },
  {
   "cell_type": "code",
   "execution_count": 19,
   "metadata": {},
   "outputs": [],
   "source": [
    "df_with_array = df_fix\\\n",
    "    .withColumn('mid_Languages', extract_languages_udf(df_fix['Body']))\\\n",
    "    .withColumn('mid_Webs', extract_website_udf(df_fix['Body']))"
   ]
  },
  {
   "cell_type": "markdown",
   "metadata": {},
   "source": [
    "# Đếm số lần được nhắc đến với mỗi ngôn ngữ LT"
   ]
  },
  {
   "cell_type": "code",
   "execution_count": 20,
   "metadata": {},
   "outputs": [
    {
     "name": "stdout",
     "output_type": "stream",
     "text": [
      "+----------+-----+\n",
      "| Languages|count|\n",
      "+----------+-----+\n",
      "|      HTML|58214|\n",
      "|       SQL|57622|\n",
      "|       PHP|51774|\n",
      "|      Java|50974|\n",
      "|    Python|33772|\n",
      "|       CSS|29976|\n",
      "|JavaScript|21076|\n",
      "|      Ruby|10663|\n",
      "|     Swift| 4912|\n",
      "|        Go| 4519|\n",
      "|       C++| 1874|\n",
      "|TypeScript|  994|\n",
      "|    Kotlin|  222|\n",
      "|        C#|  129|\n",
      "+----------+-----+\n",
      "\n"
     ]
    }
   ],
   "source": [
    "df_explode_languages = df_with_array\\\n",
    "    .withColumn(\"Languages\", explode('mid_Languages'))\\\n",
    "    .select('ID','Languages')\\\n",
    "    .groupBy(\"Languages\").count().orderBy(desc(\"count\"))\n",
    "df_explode_languages.show()"
   ]
  },
  {
   "cell_type": "markdown",
   "metadata": {},
   "source": [
    "# Đếm số lần được nhắc đến với mỗi Website"
   ]
  },
  {
   "cell_type": "code",
   "execution_count": 21,
   "metadata": {},
   "outputs": [
    {
     "name": "stdout",
     "output_type": "stream",
     "text": [
      "+--------------------+------+\n",
      "|            Websites| count|\n",
      "+--------------------+------+\n",
      "|   i.stack.imgur.com|125387|\n",
      "|   stackoverflow.com| 58694|\n",
      "|          github.com| 35921|\n",
      "|        jsfiddle.net| 35371|\n",
      "|          www.w3.org| 18154|\n",
      "| schemas.android.com| 15781|\n",
      "|www.springframewo...| 12649|\n",
      "|  msdn.microsoft.com|  9045|\n",
      "|           localhost|  7436|\n",
      "|schemas.microsoft...|  5687|\n",
      "|        java.sun.com|  5685|\n",
      "|    en.wikipedia.org|  5521|\n",
      "|        pastebin.com|  5502|\n",
      "| ajax.googleapis.com|  5394|\n",
      "|         example.com|  4651|\n",
      "|     code.google.com|  4412|\n",
      "|         i.imgur.com|  4165|\n",
      "|developers.google...|  3870|\n",
      "|developer.android...|  3775|\n",
      "|      localhost:8080|  3725|\n",
      "+--------------------+------+\n",
      "only showing top 20 rows\n",
      "\n"
     ]
    }
   ],
   "source": [
    "df_explode_websites = df_with_array\\\n",
    "    .withColumn(\"Websites\", explode('mid_Webs'))\\\n",
    "    .select('ID','Websites')\\\n",
    "    .groupBy(\"Websites\").count().orderBy(desc(\"count\"))\n",
    "df_explode_websites.show()"
   ]
  },
  {
   "cell_type": "markdown",
   "metadata": {},
   "source": [
    "# Tạo window để chứa những dữ liệu cần cho việc tính điểm cho từng user"
   ]
  },
  {
   "cell_type": "code",
   "execution_count": null,
   "metadata": {},
   "outputs": [
    {
     "name": "stdout",
     "output_type": "stream",
     "text": [
      "+-----------+------------+-----+\n",
      "|OwnerUserId|CreationDate|score|\n",
      "+-----------+------------+-----+\n",
      "|         58|  2008-08-01|  144|\n",
      "|    2089740|  2008-08-02|   53|\n",
      "|         83|  2008-08-01|   21|\n",
      "|         26|  2008-08-01|   26|\n",
      "|         71|  2008-08-02|   13|\n",
      "|         91|  2008-08-02|   49|\n",
      "|         63|  2008-08-02|   29|\n",
      "|        233|  2008-08-04|    9|\n",
      "|         91|  2008-08-03|   21|\n",
      "|         67|  2008-08-04|   14|\n",
      "|        143|  2008-08-03|   79|\n",
      "|        245|  2008-08-04|   28|\n",
      "|        120|  2008-08-04|   36|\n",
      "|        236|  2008-08-04|   17|\n",
      "|        281|  2008-08-04|   17|\n",
      "|         91|  2008-08-04|   23|\n",
      "|         60|  2008-08-04|   18|\n",
      "|        194|  2008-08-05|   13|\n",
      "|        230|  2008-08-05|   18|\n",
      "|        254|  2008-08-04|   42|\n",
      "+-----------+------------+-----+\n",
      "only showing top 20 rows\n",
      "\n"
     ]
    }
   ],
   "source": [
    "df_window = df_fix\\\n",
    "    .withColumn('CreationDate',col('CreationDate').cast(DateType()))\\\n",
    "    .filter(col('OwnerUserId').isNotNull())\\\n",
    "    .select(col('OwnerUserId'),col('CreationDate'),col('score'))\n",
    "\n",
    "df_window.show()"
   ]
  },
  {
   "cell_type": "markdown",
   "metadata": {},
   "source": [
    "# Dùng running total để tính tổng số điểm cho từng user"
   ]
  },
  {
   "cell_type": "code",
   "execution_count": null,
   "metadata": {},
   "outputs": [
    {
     "name": "stdout",
     "output_type": "stream",
     "text": [
      "+-----------+------------+-----+----------+\n",
      "|OwnerUserId|CreationDate|score|TotalScore|\n",
      "+-----------+------------+-----+----------+\n",
      "|          1|  2008-11-26|   10|        10|\n",
      "|          1|  2009-01-08|   20|        30|\n",
      "|          1|  2009-10-08|   28|        58|\n",
      "|          4|  2009-01-01|    4|         4|\n",
      "|          4|  2009-02-14|    9|        13|\n",
      "|          4|  2010-07-02|   66|        79|\n",
      "|          5|  2008-12-29|    0|         0|\n",
      "|          5|  2009-04-09|   12|        12|\n",
      "|          5|  2011-03-29|   11|        23|\n",
      "|          5|  2011-04-06|    2|        25|\n",
      "|          9|  2012-01-20|    2|         2|\n",
      "|         17|  2008-08-06|   14|        14|\n",
      "|         17|  2010-09-05|    1|        15|\n",
      "|         17|  2011-01-27|    0|        15|\n",
      "|         20|  2010-09-22|    2|         2|\n",
      "|         20|  2011-04-22|    2|         4|\n",
      "|         20|  2011-05-20|    3|         7|\n",
      "|         20|  2013-08-03|    0|         7|\n",
      "|         22|  2012-04-27|    1|         1|\n",
      "|         23|  2008-12-17|   27|        27|\n",
      "+-----------+------------+-----+----------+\n",
      "only showing top 20 rows\n",
      "\n"
     ]
    }
   ],
   "source": [
    "running_total_window = Window.partitionBy(\"OwnerUserId\") \\\n",
    "    .orderBy(\"CreationDate\") \\\n",
    "    .rowsBetween(Window.unboundedPreceding, Window.currentRow)\n",
    "\n",
    "df_window.withColumn(\"TotalScore\",f.sum(col(\"score\")).over(running_total_window)) \\\n",
    "    .show()"
   ]
  },
  {
   "cell_type": "markdown",
   "metadata": {},
   "source": [
    "# Tính số điểm cho từng user theo ngày bắt đầu và ngày kết thúc"
   ]
  },
  {
   "cell_type": "markdown",
   "metadata": {},
   "source": [
    "Lọc ra những caai hỏi có thời gian tương úng"
   ]
  },
  {
   "cell_type": "code",
   "execution_count": null,
   "metadata": {},
   "outputs": [],
   "source": [
    "START = '2008-01-01'\n",
    "END = '2009-01-01'\n",
    "df_date = df_fix\\\n",
    "    .withColumn('CreationDate',col('CreationDate').cast(DateType()))\\\n",
    "    .withColumn('ClosedDate',col('ClosedDate').cast(DateType()))\\\n",
    "    .filter(col('OwnerUserId').isNotNull())\\\n",
    "    .filter(col('ClosedDate').isNotNull())\\\n",
    "    .filter(col('CreationDate') > START)\\\n",
    "    .filter(col('ClosedDate') < END)\\\n",
    "    .select(col('OwnerUserId'),col('score'))"
   ]
  },
  {
   "cell_type": "markdown",
   "metadata": {},
   "source": [
    "Tính điểm cho từng user trong df chứa dữ liệu vừa lọc"
   ]
  },
  {
   "cell_type": "code",
   "execution_count": null,
   "metadata": {},
   "outputs": [
    {
     "name": "stdout",
     "output_type": "stream",
     "text": [
      "+-----------+-----+----------+\n",
      "|OwnerUserId|score|TotalScore|\n",
      "+-----------+-----+----------+\n",
      "|         83|    0|         0|\n",
      "|        342|    0|         0|\n",
      "|        342|    0|         0|\n",
      "|       2128|    2|         2|\n",
      "|       2424|    1|         1|\n",
      "|       2757|    2|         2|\n",
      "|       3153|    0|         0|\n",
      "|      13850|    0|         0|\n",
      "|      13913|    3|         3|\n",
      "|      19731|    3|         3|\n",
      "|      20003|    1|         1|\n",
      "|      21709|    0|         0|\n",
      "|      26880|    1|         1|\n",
      "|      28149|    7|         7|\n",
      "|      31671|    2|         2|\n",
      "|      32037|    0|         0|\n",
      "|      32136|    2|         2|\n",
      "|      36182|    9|         9|\n",
      "|      37509|    6|         6|\n",
      "|      39655|    1|         1|\n",
      "+-----------+-----+----------+\n",
      "only showing top 20 rows\n",
      "\n"
     ]
    }
   ],
   "source": [
    "running_date_window = Window.partitionBy(\"OwnerUserId\") \\\n",
    "    .orderBy(\"OwnerUserId\") \\\n",
    "    .rowsBetween(Window.unboundedPreceding, Window.currentRow)\n",
    "\n",
    "df_date.withColumn(\"TotalScore\",f.sum(col(\"score\")).over(running_date_window)) \\\n",
    "    .show()"
   ]
  },
  {
   "cell_type": "markdown",
   "metadata": {},
   "source": [
    "# Vô hiệu hóa BroadcastJoin và tạo 2 df mới chứa dữ liệu trong Bucketed và Bucketed1"
   ]
  },
  {
   "cell_type": "code",
   "execution_count": null,
   "metadata": {},
   "outputs": [
    {
     "name": "stdout",
     "output_type": "stream",
     "text": [
      "+--------+-----------+\n",
      "|      Id|OwnerUserId|\n",
      "+--------+-----------+\n",
      "|35400350|    2054434|\n",
      "|35400390|     405790|\n",
      "|35400620|    4048006|\n",
      "|35400700|    2603268|\n",
      "|35400790|     630301|\n",
      "|35400840|    2684718|\n",
      "|35401060|    4726942|\n",
      "|35401530|    5359841|\n",
      "|35402040|    4172460|\n",
      "|35402100|    2232085|\n",
      "|35402350|    3167859|\n",
      "|35402400|    5928348|\n",
      "|35402570|     980050|\n",
      "|35402600|    3369417|\n",
      "|35402850|    5928466|\n",
      "|35402950|    5856565|\n",
      "|35403210|    5653217|\n",
      "|35403220|    3765130|\n",
      "|35403240|    5167845|\n",
      "|35403310|    5928568|\n",
      "+--------+-----------+\n",
      "only showing top 20 rows\n",
      "\n"
     ]
    }
   ],
   "source": [
    "spark.conf.set(\"spark.sql.autoBroadcastJoinThreshold\",-1)\n",
    "df1 = spark.table(\"bucketed\")\n",
    "df1_rename = df1.withColumnRenamed('id', 'answers_id')\n",
    "df2 = spark.table(\"bucketed1\")\n",
    "# df1_rename.show()\n",
    "df2.show()\n",
    "\n"
   ]
  },
  {
   "cell_type": "markdown",
   "metadata": {},
   "source": [
    "# Tạo điều kiện join và Join 2 df vừa tạo"
   ]
  },
  {
   "cell_type": "code",
   "execution_count": null,
   "metadata": {},
   "outputs": [
    {
     "name": "stdout",
     "output_type": "stream",
     "text": [
      "+----------+--------+---+-----------+\n",
      "|answers_id|ParentId| Id|OwnerUserId|\n",
      "+----------+--------+---+-----------+\n",
      "|    202317|      90| 90|         58|\n",
      "|   1466832|      90| 90|         58|\n",
      "|        92|      90| 90|         58|\n",
      "|   4289753|     260|260|         91|\n",
      "|  11527418|     260|260|         91|\n",
      "|      3637|     260|260|         91|\n",
      "|      7217|     260|260|         91|\n",
      "|       269|     260|260|         91|\n",
      "|       344|     260|260|         91|\n",
      "|     79013|     260|260|         91|\n",
      "|       307|     260|260|         91|\n",
      "|       359|     260|260|         91|\n",
      "|    123101|     330|330|         63|\n",
      "|    136881|     330|330|         63|\n",
      "|      2019|     330|330|         63|\n",
      "|     82288|     330|330|         63|\n",
      "|       332|     330|330|         63|\n",
      "|      2023|     330|330|         63|\n",
      "|    109887|     330|330|         63|\n",
      "|     70727|     330|330|         63|\n",
      "+----------+--------+---+-----------+\n",
      "only showing top 20 rows\n",
      "\n"
     ]
    }
   ],
   "source": [
    "\n",
    "join_expr = df1_rename.ParentId == df2.Id\n",
    "join_df = df1_rename.join(df2,join_expr,\"inner\")\n",
    "\n",
    "join_df.show()\n"
   ]
  },
  {
   "cell_type": "markdown",
   "metadata": {},
   "source": [
    "# Nhóm các DF mới theo ID của DF questions và lọc ra những câu hỏi có nhiều hơn 5 câu trả lời"
   ]
  },
  {
   "cell_type": "code",
   "execution_count": null,
   "metadata": {},
   "outputs": [
    {
     "name": "stdout",
     "output_type": "stream",
     "text": [
      "+----+-----+\n",
      "|  Id|count|\n",
      "+----+-----+\n",
      "| 180|    9|\n",
      "| 260|    9|\n",
      "| 330|   10|\n",
      "| 580|   14|\n",
      "| 650|    6|\n",
      "| 930|    7|\n",
      "|1040|    7|\n",
      "|1160|   12|\n",
      "|1300|    7|\n",
      "|1390|    6|\n",
      "|1610|    8|\n",
      "|1760|   12|\n",
      "|1970|    8|\n",
      "|2120|    7|\n",
      "|2300|    6|\n",
      "|2530|   38|\n",
      "|2550|    7|\n",
      "|2630|   13|\n",
      "|2750|    8|\n",
      "|2840|    6|\n",
      "+----+-----+\n",
      "only showing top 20 rows\n",
      "\n"
     ]
    }
   ],
   "source": [
    "join_df_agg = join_df\\\n",
    "    .groupBy('Id')\\\n",
    "    .count().orderBy(col('Id').asc())\\\n",
    "\n",
    "    \n",
    "join_df_agg.filter(col('count')>5).show()\n"
   ]
  }
 ],
 "metadata": {
  "kernelspec": {
   "display_name": "Python 3",
   "language": "python",
   "name": "python3"
  },
  "language_info": {
   "codemirror_mode": {
    "name": "ipython",
    "version": 3
   },
   "file_extension": ".py",
   "mimetype": "text/x-python",
   "name": "python",
   "nbconvert_exporter": "python",
   "pygments_lexer": "ipython3",
   "version": "3.11.4"
  }
 },
 "nbformat": 4,
 "nbformat_minor": 2
}
